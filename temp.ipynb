{
  "nbformat": 4,
  "nbformat_minor": 0,
  "metadata": {
    "colab": {
      "name": "Untitled5.ipynb",
      "version": "0.3.2",
      "provenance": [],
      "include_colab_link": true
    },
    "kernelspec": {
      "name": "python3",
      "display_name": "Python 3"
    }
  },
  "cells": [
    {
      "cell_type": "markdown",
      "metadata": {
        "id": "view-in-github",
        "colab_type": "text"
      },
      "source": [
        "<a href=\"https://colab.research.google.com/github/petyoPopov/6.86x/blob/master/temp.ipynb\" target=\"_parent\"><img src=\"https://colab.research.google.com/assets/colab-badge.svg\" alt=\"Open In Colab\"/></a>"
      ]
    },
    {
      "cell_type": "code",
      "metadata": {
        "id": "bMeW68TqH_Ux",
        "colab_type": "code",
        "colab": {}
      },
      "source": [
        "import numpy as np\n",
        "\n",
        "def randomization(n):\n",
        "    \"\"\"\n",
        "    Arg:\n",
        "      n - an integer\n",
        "    Returns:\n",
        "      A - a randomly-generated nx1 Numpy array.\n",
        "    \"\"\"\n",
        "    #Your code here\n",
        "    raise NotImplementedError\n",
        "\n",
        "def operations(h, w):\n",
        "    \"\"\"\n",
        "    Takes two inputs, h and w, and makes two Numpy arrays A and B of size\n",
        "    h x w, and returns A, B, and s, the sum of A and B.\n",
        "\n",
        "    Arg:\n",
        "      h - an integer describing the height of A and B\n",
        "      w - an integer describing the width of A and B\n",
        "    Returns (in this order):\n",
        "      A - a randomly-generated h x w Numpy array.\n",
        "      B - a randomly-generated h x w Numpy array.\n",
        "      s - the sum of A and B.\n",
        "    \"\"\"\n",
        "    #Your code here\n",
        "    raise NotImplementedError\n",
        "\n",
        "\n",
        "def norm(A, B):\n",
        "    \"\"\"\n",
        "    Takes two Numpy column arrays, A and B, and returns the L2 norm of their\n",
        "    sum.\n",
        "\n",
        "    Arg:\n",
        "      A - a Numpy array\n",
        "      B - a Numpy array\n",
        "    Returns:\n",
        "      s - the L2 norm of A+B.\n",
        "    \"\"\"\n",
        "    #Your code here\n",
        "    raise NotImplementedError\n",
        "\n",
        "\n",
        "def neural_network(inputs, weights):\n",
        "    \"\"\"\n",
        "     Takes an input vector and runs it through a 1-layer neural network\n",
        "     with a given weight matrix and returns the output.\n",
        "\n",
        "     Arg:\n",
        "       inputs - 2 x 1 NumPy array\n",
        "       weights - 2 x 1 NumPy array\n",
        "     Returns (in this order):\n",
        "       out - a 1 x 1 NumPy array, representing the output of the neural network\n",
        "    \"\"\"\n",
        "    #Your code here\n",
        "    raise NotImplementedError\n"
      ],
      "execution_count": 0,
      "outputs": []
    }
  ]
}